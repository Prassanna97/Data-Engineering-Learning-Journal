{
 "cells": [
  {
   "cell_type": "code",
   "execution_count": null,
   "id": "39a8d074",
   "metadata": {},
   "outputs": [],
   "source": [
    "## 1. if,elif,else condition\n",
    "\n",
    "age = 28\n",
    "\n",
    "if age < 18:\n",
    "    print(\"Minor\")\n",
    "elif age >= 18 and age < 60:\n",
    "    print(\"Adult\")\n",
    "else:\n",
    "    print(\"Senior Citizen\")\n",
    "\n",
    "## 2. For loop\n",
    "\n",
    "fruits=[\"apple\",\"banana\",\"cherry\"]\n",
    "\n",
    "for fruit in fruits:\n",
    "    print(fruit)\n",
    "\n",
    "\n",
    "## 3. While loop\n",
    "\n",
    "count =0\n",
    "\n",
    "while count < 5:\n",
    "    print(\"Count:\", count)\n",
    "    count += 1\n",
    "\n",
    "\n",
    "\n",
    "\n",
    "\n",
    "\n",
    "\n"
   ]
  }
 ],
 "metadata": {
  "language_info": {
   "name": "python"
  }
 },
 "nbformat": 4,
 "nbformat_minor": 5
}
