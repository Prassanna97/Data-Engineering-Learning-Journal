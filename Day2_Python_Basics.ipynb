{
 "cells": [
  {
   "cell_type": "code",
   "execution_count": 1,
   "id": "124cac02",
   "metadata": {},
   "outputs": [
    {
     "name": "stdout",
     "output_type": "stream",
     "text": [
      "Name: vahini\n",
      "Age: 38\n",
      "Height: 5.4\n",
      "Is Data Engineer: True\n",
      "Fruits: ['apple', 'banana', 'cherry']\n",
      "Tuple: ('red', 'blue', 'green')\n",
      "Unique numbers: {1, 2, 3, 4}\n",
      "Addition: 22\n",
      "subtraction: -2\n",
      "Multiplication 120\n",
      "Division: 10\n"
     ]
    }
   ],
   "source": [
    "#Day 2: Python Basics\n",
    "\n",
    "## 1. Variables & Data Types\n",
    "\n",
    "#string\n",
    "name=\"vahini\"\n",
    "print(\"Name:\", name)\n",
    "\n",
    "#integer\n",
    "age = 38\n",
    "print(\"Age:\", age)\n",
    "\n",
    "#float\n",
    "height=5.4\n",
    "print(\"Height:\", height)\n",
    "\n",
    "#Boolean\n",
    "is_data_engineer= True\n",
    "print(\"Is Data Engineer:\",is_data_engineer)\n",
    "\n",
    "## 2. Lists, Tuples, Sets, Dictionary\n",
    "\n",
    "#Lists\n",
    "fruits =['apple','banana','cherry']\n",
    "print(\"Fruits:\",fruits)\n",
    "\n",
    "#Tuple\n",
    "colors=(\"red\",\"blue\",\"green\")\n",
    "print(\"Tuple:\",colors)\n",
    "\n",
    "#Set\n",
    "unique_numbers={1,2,3,4}\n",
    "print(\"Unique numbers:\",unique_numbers)\n",
    "\n",
    "#Dictionary\n",
    "person={\"name\" : \"vahini\", \"role\" : \"Data Engineer\", \"experience\": 0}\n",
    "\n",
    "\n",
    "## 3. Basic Operations\n",
    "\n",
    "a=10\n",
    "b=12\n",
    "\n",
    "#Addition\n",
    "print(\"Addition:\",a+b)\n",
    "\n",
    "#Subtraction\n",
    "print(\"subtraction:\",a-b)\n",
    "\n",
    "#Multiplication\n",
    "print(\"Multiplication\",a*b)\n",
    "\n",
    "#Division\n",
    "print(\"Division:\",a%b)\n",
    "\n"
   ]
  },
  {
   "cell_type": "code",
   "execution_count": null,
   "id": "49852726",
   "metadata": {},
   "outputs": [],
   "source": []
  }
 ],
 "metadata": {
  "kernelspec": {
   "display_name": "Python 3",
   "language": "python",
   "name": "python3"
  },
  "language_info": {
   "codemirror_mode": {
    "name": "ipython",
    "version": 3
   },
   "file_extension": ".py",
   "mimetype": "text/x-python",
   "name": "python",
   "nbconvert_exporter": "python",
   "pygments_lexer": "ipython3",
   "version": "3.13.6"
  }
 },
 "nbformat": 4,
 "nbformat_minor": 5
}
