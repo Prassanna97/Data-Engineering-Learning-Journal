{
 "cells": [
  {
   "cell_type": "code",
   "execution_count": 3,
   "id": "43d4df39",
   "metadata": {},
   "outputs": [
    {
     "name": "stdout",
     "output_type": "stream",
     "text": [
      "Hello, welcome to Data Engineering learning!\n",
      "Hello Vahini, welcome!\n",
      "Addition result: 15\n"
     ]
    }
   ],
   "source": [
    "# Function without parameters\n",
    "def greet():\n",
    "    # Prints a welcome message\n",
    "    print(\"Hello, welcome to Data Engineering learning!\")\n",
    "\n",
    "greet()  # Function call\n",
    "\n",
    "# Function with parameters\n",
    "def greet_person(name):\n",
    "    # Uses the name given in the function call\n",
    "    print(f\"Hello {name}, welcome!\")\n",
    "\n",
    "greet_person(\"Vahini\")\n",
    "\n",
    "# Function with return value\n",
    "def add_numbers(a, b):\n",
    "    # Adds two numbers and returns result\n",
    "    return a + b\n",
    "\n",
    "result = add_numbers(10, 5)  # Store the returned value\n",
    "print(\"Addition result:\", result)\n"
   ]
  }
 ],
 "metadata": {
  "kernelspec": {
   "display_name": "Python 3",
   "language": "python",
   "name": "python3"
  },
  "language_info": {
   "codemirror_mode": {
    "name": "ipython",
    "version": 3
   },
   "file_extension": ".py",
   "mimetype": "text/x-python",
   "name": "python",
   "nbconvert_exporter": "python",
   "pygments_lexer": "ipython3",
   "version": "3.13.6"
  }
 },
 "nbformat": 4,
 "nbformat_minor": 5
}
